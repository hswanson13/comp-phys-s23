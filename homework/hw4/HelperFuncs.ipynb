{
 "cells": [
  {
   "cell_type": "code",
   "execution_count": 52,
   "id": "87bb4b84",
   "metadata": {},
   "outputs": [],
   "source": [
    "import numpy as np\n",
    "from numpy.polynomial import Polynomial\n"
   ]
  },
  {
   "cell_type": "code",
   "execution_count": 69,
   "id": "bab36131",
   "metadata": {},
   "outputs": [
    {
     "data": {
      "text/plain": [
       "0.6666666666666666"
      ]
     },
     "execution_count": 69,
     "metadata": {},
     "output_type": "execute_result"
    }
   ],
   "source": [
    "#guassian quad\n",
    "\n",
    "#integral of f is:\n",
    "#sum weights going to n (number of points) times func evaluated at the roots of legendre polynomials\n",
    "\n",
    "#generate legendre polynomials\n",
    "#find their roots\n",
    "#take derivatives\n",
    "\n",
    "def gen_legendre(n):\n",
    "    inner = Polynomial([-1,0,1])\n",
    "    coef = ((2**n) * np.math.factorial(n)) \n",
    "    poly = inner**n\n",
    "    return (coef**-1) * poly.deriv(n) #rodriguez formula\n",
    "\n",
    "def gaussian(n):\n",
    "    \n",
    "    def func(x):\n",
    "        return x**2\n",
    "    \n",
    "    P_n = gen_legendre(n)\n",
    "    P_roots = P_n.roots()\n",
    "    dxdP = P_n.deriv()\n",
    "    weights = 2 / (1 - P_roots**2) * (1/dxdP(P_roots))**2\n",
    "\n",
    "    return np.sum(weights*func(P_roots))\n",
    "        \n"
   ]
  }
 ],
 "metadata": {
  "kernelspec": {
   "display_name": "Python 3 (ipykernel)",
   "language": "python",
   "name": "python3"
  },
  "language_info": {
   "codemirror_mode": {
    "name": "ipython",
    "version": 3
   },
   "file_extension": ".py",
   "mimetype": "text/x-python",
   "name": "python",
   "nbconvert_exporter": "python",
   "pygments_lexer": "ipython3",
   "version": "3.9.12"
  }
 },
 "nbformat": 4,
 "nbformat_minor": 5
}
