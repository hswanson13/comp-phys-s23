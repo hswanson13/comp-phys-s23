{
 "cells": [
  {
   "cell_type": "code",
   "execution_count": 4,
   "id": "598ff610",
   "metadata": {},
   "outputs": [],
   "source": [
    "import numpy as np\n",
    "from numpy.polynomial import Polynomial\n",
    "from scipy import constants"
   ]
  },
  {
   "cell_type": "code",
   "execution_count": 28,
   "id": "659f9747",
   "metadata": {},
   "outputs": [],
   "source": [
    "def gen_legendre(n):\n",
    "    inner = Polynomial([-1,0,1])\n",
    "    coef = ((2**n) * np.math.factorial(n)) \n",
    "    poly = inner**n\n",
    "    return (coef**-1) * poly.deriv(n) #rodriguez formula\n",
    "\n",
    "def gaussian(n):\n",
    "    \n",
    "    def func(x): #change function here\n",
    "        f = x**3 / ((np.exp(x/(1-x))-1) * (1-x)**5)\n",
    "        return  f\n",
    "    \n",
    "    P_n = gen_legendre(n) #generate legendre polynomial\n",
    "    P_roots = P_n.roots() #roots of legendre polynomial\n",
    "    \n",
    "    dxdP = P_n.deriv()  #derivative of legendre polynomial\n",
    "    weights = 2 / (1 - P_roots**2) * (1/dxdP(P_roots))**2 #calc weights\n",
    "    \n",
    "    return np.sum(weights*func(P_roots)) #\n",
    "        \n",
    "def gaussian_0_to_1(n):\n",
    "    def func(x): #change function here\n",
    "        f = x**3 / ((np.exp(x/(1-x))-1) * (1-x)**5) #converted integral so bounds are 0 to 1\n",
    "        return  f\n",
    "    \n",
    "    P_n = gen_legendre(n) #generate legendre polynomial\n",
    "    P_roots = P_n.roots() #roots of legendre polynomial\n",
    "    #print(P_roots)\n",
    "    dxdP = P_n.deriv()  #derivative of legendre polynomial\n",
    "    weights = 2 / (1 - P_roots**2) * (1/dxdP(P_roots))**2 #calc weights\n",
    "    \n",
    "    new_weights = weights/2 #for new range 0 to 1 not -1 to 1\n",
    "    new_roots = 0.5 * P_roots + 0.5\n",
    "    return np.sum(new_weights*func(new_roots)) #integral on the new range"
   ]
  },
  {
   "cell_type": "code",
   "execution_count": 3,
   "id": "7c244b67",
   "metadata": {},
   "outputs": [],
   "source": [
    "#PART A\n",
    "#convert cell to latex to show part a"
   ]
  },
  {
   "cell_type": "code",
   "execution_count": null,
   "id": "b5a8ea35",
   "metadata": {},
   "outputs": [],
   "source": [
    "#PART B\n",
    "#show integral calculation and explain accuracy of integral\n",
    "#https://math.stackexchange.com/questions/1544918/gaussian-quadrature-with-a-to-0-1-reference-domain-instead-of-a-1-1-ref\n",
    "\n"
   ]
  },
  {
   "cell_type": "code",
   "execution_count": 33,
   "id": "ae52805c",
   "metadata": {},
   "outputs": [
    {
     "name": "stdout",
     "output_type": "stream",
     "text": [
      "5.670381701272228e-08\n",
      "5.670374419e-08\n"
     ]
    }
   ],
   "source": [
    "#PART C\n",
    "#\n",
    "k = constants.k\n",
    "hbar = constants.hbar\n",
    "c = constants.c\n",
    "stef_accepted = constants.Stefan_Boltzmann\n",
    "integral = gaussian_0_to_1(30) #this is fine\n",
    "\n",
    "stefan = integral * k**4/(4*np.pi**2 * c**2 * hbar**3)\n",
    "print(stephan)\n",
    "print(stef_accepted)"
   ]
  },
  {
   "cell_type": "code",
   "execution_count": null,
   "id": "569395e5",
   "metadata": {},
   "outputs": [],
   "source": []
  }
 ],
 "metadata": {
  "kernelspec": {
   "display_name": "Python 3 (ipykernel)",
   "language": "python",
   "name": "python3"
  },
  "language_info": {
   "codemirror_mode": {
    "name": "ipython",
    "version": 3
   },
   "file_extension": ".py",
   "mimetype": "text/x-python",
   "name": "python",
   "nbconvert_exporter": "python",
   "pygments_lexer": "ipython3",
   "version": "3.9.12"
  }
 },
 "nbformat": 4,
 "nbformat_minor": 5
}
