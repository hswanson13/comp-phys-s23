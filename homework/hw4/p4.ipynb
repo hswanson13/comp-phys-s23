{
 "cells": [
  {
   "cell_type": "code",
   "execution_count": 2,
   "id": "6a5cf627",
   "metadata": {},
   "outputs": [],
   "source": [
    "#start work here\n",
    "import numpy as np"
   ]
  },
  {
   "cell_type": "code",
   "execution_count": 35,
   "id": "6cd401cf",
   "metadata": {},
   "outputs": [
    {
     "name": "stdout",
     "output_type": "stream",
     "text": [
      "4.048278064995431\n",
      "4.04728912357564\n"
     ]
    }
   ],
   "source": [
    "\n",
    "def func(t): #function wishing to integrate\n",
    "    return np.tan(t) - 1/(np.pi/2 - t)\n",
    "\n",
    "\n",
    "def simp(a,b,n):\n",
    "    #a=0\n",
    "    #b=1\n",
    "    \n",
    "    delt_x = (b-a)/n\n",
    "    t_s = np.arange(a,b+delt_x, delt_x) #x0 = a , x1 = a + delt_x , x2 = a + 2 delt_x , etc...\n",
    "    int2 = 0\n",
    "    for i in range(n):\n",
    "        int2 += delt_x/6 * (func(t_s[i])+4*func((t_s[i]+t_s[i+1])/2) + func(t_s[i+1]))\n",
    "    return int2\n",
    "\n",
    "\n",
    "def trap(a,b,n):\n",
    "\n",
    "    delt_x = (b-a)/n\n",
    "    \n",
    "    x_s = np.arange(a, b, delt_x)\n",
    "    \n",
    "    s = sum([func(x) for x in x_s])\n",
    "    return delt_x/2 * (func(a) + func(b) + 2 * s)\n",
    "\n",
    "\n",
    "\n",
    "#PART A    \n",
    "a = 0\n",
    "b = 1.553343\n",
    "#print(simp(a,b,1000))\n",
    "#print(trap(a,b,1000))\n",
    "\n",
    "'''\n",
    "for just tan(x)\n",
    "\n",
    "simpson: 4.0482759\n",
    "trap:    4.0489352\n",
    "\n",
    "analytical is 4.04828\n",
    "so it is pretty close for 1000 intervals\n",
    "'''\n",
    "\n",
    "#PART B\n",
    "'''\n",
    "Integral of just 1/(pi/2 - x) from 0 to 1.553343 = 4.49981\n",
    "\n",
    "analytical of the whole integral + 4.49981 = 4.04827806\n",
    "\n",
    "simpson: 4.04827806\n",
    "trap:    4.04728912\n",
    "\n",
    "So simpson did matches extremely well but trapezoid got worse\n",
    "\n",
    "'''\n",
    "\n",
    "print(simp(a,b,1000)+4.49981)\n",
    "print(trap(a,b,1000)+4.49981)"
   ]
  },
  {
   "cell_type": "code",
   "execution_count": null,
   "id": "2e81b2aa",
   "metadata": {},
   "outputs": [],
   "source": []
  }
 ],
 "metadata": {
  "kernelspec": {
   "display_name": "Python 3 (ipykernel)",
   "language": "python",
   "name": "python3"
  },
  "language_info": {
   "codemirror_mode": {
    "name": "ipython",
    "version": 3
   },
   "file_extension": ".py",
   "mimetype": "text/x-python",
   "name": "python",
   "nbconvert_exporter": "python",
   "pygments_lexer": "ipython3",
   "version": "3.9.12"
  }
 },
 "nbformat": 4,
 "nbformat_minor": 5
}
