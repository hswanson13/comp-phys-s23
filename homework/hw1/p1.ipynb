{
 "cells": [
  {
   "cell_type": "code",
   "execution_count": 4,
   "id": "c0d6085a",
   "metadata": {},
   "outputs": [],
   "source": [
    "import math as m\n",
    "import numpy as np\n",
    "\n",
    "def calculate_sum_basic(n):\n",
    "    return sum([m.sin(i) for i in range(1,n+1)])\n",
    "\n",
    "def calculate_sum(n):\n",
    "    return sum([np.sin(i) for i in range(1,n+1)])"
   ]
  },
  {
   "cell_type": "code",
   "execution_count": 6,
   "id": "a79d173f",
   "metadata": {},
   "outputs": [
    {
     "name": "stdout",
     "output_type": "stream",
     "text": [
      "-0.12717101366042016\n",
      "-0.12717101366042016\n"
     ]
    }
   ],
   "source": [
    "print(calculate_sum_basic(100))\n",
    "print(calculate_sum(100))"
   ]
  },
  {
   "cell_type": "code",
   "execution_count": null,
   "id": "e152bccb",
   "metadata": {},
   "outputs": [],
   "source": []
  }
 ],
 "metadata": {
  "kernelspec": {
   "display_name": "Python 3 (ipykernel)",
   "language": "python",
   "name": "python3"
  },
  "language_info": {
   "codemirror_mode": {
    "name": "ipython",
    "version": 3
   },
   "file_extension": ".py",
   "mimetype": "text/x-python",
   "name": "python",
   "nbconvert_exporter": "python",
   "pygments_lexer": "ipython3",
   "version": "3.9.12"
  }
 },
 "nbformat": 4,
 "nbformat_minor": 5
}
