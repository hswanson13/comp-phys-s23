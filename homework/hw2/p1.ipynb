{
 "cells": [
  {
   "cell_type": "code",
   "execution_count": 2,
   "id": "4fff6434",
   "metadata": {},
   "outputs": [],
   "source": [
    "import matplotlib.pyplot as plt\n",
    "import numpy as np\n",
    "import regex as re"
   ]
  },
  {
   "cell_type": "code",
   "execution_count": 34,
   "id": "d1ba744c",
   "metadata": {},
   "outputs": [
    {
     "name": "stdout",
     "output_type": "stream",
     "text": [
      "{1: 5738, 2: 3540, 3: 2342, 4: 1847, 5: 1559, 6: 1370, 7: 1167, 8: 1043, 9: 904}\n"
     ]
    }
   ],
   "source": [
    "\n",
    "reg_exp = '([0-9]+)' #regular expression gets all numbers in the string\n",
    "file_name = '/home/hayden/comp401/frank_repo/comp-phys-s23/homework/hw2/CensusTownAndCityPopulation.csv'\n",
    "\n",
    "digit_counter = {1:0,\n",
    "                 2:0,\n",
    "                 3:0,\n",
    "                 4:0,\n",
    "                 5:0,\n",
    "                 6:0,\n",
    "                 7:0,\n",
    "                 8:0,\n",
    "                 9:0}\n",
    "\n",
    "line_counter = 0\n",
    "with open(file_name, 'r', encoding='UTF-8') as file:\n",
    "    for line in file:\n",
    "        lead_digit = int(re.findall(reg_exp,line)[0][0]) #get first element in list then get first element in string\n",
    "        digit_counter[lead_digit] += 1\n",
    "        line_counter += 1\n",
    "        if line_counter == 0:\n",
    "            continue\n",
    "            \n",
    "print(digit_counter)"
   ]
  },
  {
   "cell_type": "code",
   "execution_count": 53,
   "id": "b55b2034",
   "metadata": {},
   "outputs": [
    {
     "data": {
      "image/png": "[encoded data removed]",
      "text/plain": [
       "<Figure size 432x288 with 1 Axes>"
      ]
     },
     "metadata": {
      "needs_background": "light"
     },
     "output_type": "display_data"
    }
   ],
   "source": [
    "freq = list(digit_counter.values())\n",
    "digits = list(digit_counter.keys())\n",
    "\n",
    "plt.title('Frequency of the Leading Digit in US City Populations')\n",
    "plt.bar(digits,freq)\n",
    "plt.xticks(digits, [str(i) for i in digits])\n",
    "plt.ylabel('counts')\n",
    "plt.xlabel('digit')\n",
    "plt.show()"
   ]
  },
  {
   "cell_type": "code",
   "execution_count": null,
   "id": "3c579490",
   "metadata": {},
   "outputs": [],
   "source": []
  }
 ],
 "metadata": {
  "kernelspec": {
   "display_name": "Python 3 (ipykernel)",
   "language": "python",
   "name": "python3"
  },
  "language_info": {
   "codemirror_mode": {
    "name": "ipython",
    "version": 3
   },
   "file_extension": ".py",
   "mimetype": "text/x-python",
   "name": "python",
   "nbconvert_exporter": "python",
   "pygments_lexer": "ipython3",
   "version": "3.9.12"
  }
 },
 "nbformat": 4,
 "nbformat_minor": 5
}
