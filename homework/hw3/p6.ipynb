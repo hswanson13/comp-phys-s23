{
 "cells": [
  {
   "attachments": {
    "image.png": {
     "image/png": "[encoded data removed]"
    }
   },
   "cell_type": "markdown",
   "id": "b518e4be",
   "metadata": {},
   "source": [
    "![image.png](attachment:image.png)"
   ]
  },
  {
   "cell_type": "code",
   "execution_count": 2,
   "id": "60a8d993",
   "metadata": {},
   "outputs": [],
   "source": [
    "import numpy as np"
   ]
  },
  {
   "cell_type": "code",
   "execution_count": 10,
   "id": "d99750ed",
   "metadata": {},
   "outputs": [
    {
     "name": "stdout",
     "output_type": "stream",
     "text": [
      "[ 1.  3.  5.  7.  9. 11. 13. 15. 17. 19. 21. 23. 25. 27. 29. 31. 33. 35.\n",
      " 37. 39. 41. 43. 45. 47. 49. 51. 53. 55. 57. 59. 61. 63. 65. 67. 69. 71.\n",
      " 73. 75. 77. 79. 81. 83. 85. 87. 89. 91. 93. 95. 97. 99.]\n"
     ]
    }
   ],
   "source": [
    "\n",
    "\n",
    "def f_prime(x):\n",
    "    return np.cos(np.pi+np.cos(x))*(-np.sin(x))\n",
    "\n",
    "def f(x):\n",
    "    return np.sin(np.pi+np.cos(x))\n",
    "\n",
    "\n",
    "def next_x(x_start,c,depth):\n",
    "    c+=1\n",
    "    x_curr = x_start - f(x_start)/f_prime(x_start)\n",
    "    if c==depth:\n",
    "        return x_curr\n",
    "    return next_x(x_curr,c,depth)\n",
    "\n",
    "roots = []\n",
    "N = 50 #number of roots you want\n",
    "for n in range(N):\n",
    "    root = next_x(((np.pi/2+0.1)+n*np.pi),0,100)\n",
    "    roots.append(root)\n",
    "    \n",
    "print(np.array(roots)/(np.pi/2))\n",
    "#so my guess that the roots were seperated by pi is correct therefore the roots list gives the n, number of roots"
   ]
  },
  {
   "cell_type": "code",
   "execution_count": null,
   "id": "b0e76c2c",
   "metadata": {},
   "outputs": [],
   "source": []
  }
 ],
 "metadata": {
  "kernelspec": {
   "display_name": "Python 3 (ipykernel)",
   "language": "python",
   "name": "python3"
  },
  "language_info": {
   "codemirror_mode": {
    "name": "ipython",
    "version": 3
   },
   "file_extension": ".py",
   "mimetype": "text/x-python",
   "name": "python",
   "nbconvert_exporter": "python",
   "pygments_lexer": "ipython3",
   "version": "3.9.12"
  }
 },
 "nbformat": 4,
 "nbformat_minor": 5
}
