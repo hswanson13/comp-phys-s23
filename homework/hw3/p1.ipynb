{
 "cells": [
  {
   "cell_type": "code",
   "execution_count": 1,
   "id": "97ed2392",
   "metadata": {},
   "outputs": [
    {
     "name": "stdout",
     "output_type": "stream",
     "text": [
      "2\n",
      "1.5\n",
      "1.25\n",
      "1.125\n",
      "1.0625\n",
      "1.03125\n",
      "1.015625\n",
      "1.0078125\n",
      "1.00390625\n",
      "1.001953125\n",
      "1.0009765625\n",
      "1.00048828125\n",
      "1.000244140625\n",
      "1.0001220703125\n",
      "1.00006103515625\n",
      "1.000030517578125\n",
      "1.0000152587890625\n",
      "1.0000076293945312\n",
      "1.0000038146972656\n",
      "1.0000019073486328\n",
      "1.0000009536743164\n",
      "1.0000004768371582\n",
      "1.000000238418579\n",
      "1.0000001192092896\n",
      "1.0000000596046448\n",
      "1.0000000298023224\n",
      "1.0000000149011612\n",
      "1.0000000074505806\n",
      "1.0000000037252903\n",
      "1.0000000018626451\n",
      "1.0000000009313226\n",
      "1.0000000004656613\n",
      "1.0000000002328306\n",
      "1.0000000001164153\n",
      "1.0000000000582077\n",
      "1.0000000000291038\n",
      "1.000000000014552\n",
      "1.000000000007276\n",
      "1.000000000003638\n",
      "1.000000000001819\n",
      "1.0000000000009095\n",
      "1.0000000000004547\n",
      "1.0000000000002274\n",
      "1.0000000000001137\n",
      "1.0000000000000568\n",
      "1.0000000000000284\n",
      "1.0000000000000142\n",
      "1.000000000000007\n",
      "1.0000000000000036\n",
      "1.0000000000000018\n",
      "1.0000000000000009\n",
      "1.0000000000000004\n",
      "1.0000000000000002\n",
      "53\n",
      "1.1102230246251565e-16\n",
      "-53.0\n",
      "1.1102230246251565e-16\n"
     ]
    },
    {
     "data": {
      "text/plain": [
       "'\\nEvery time I divide by 2 I am moving the decimal place of the 2 bit number over one\\n\\nA computer does not have infinite precision and will eventually run out of bits to move a decimal place over too\\n\\nIn this case it is 53 bit moves and it fails.\\n\\nIf you look up how many fraction bits there are in a 64 bit float it is 52, so mine failed once it hit 53 bits\\n->the first bit out of its resolution\\n'"
      ]
     },
     "execution_count": 1,
     "metadata": {},
     "output_type": "execute_result"
    }
   ],
   "source": [
    "import numpy as np\n",
    "\n",
    "eps = 1\n",
    "c= 0\n",
    "while True:\n",
    "    print(1+eps)\n",
    "    eps = eps/2\n",
    "    c+=1\n",
    "    if 1+eps == 1:\n",
    "        print(c)\n",
    "        print(eps)\n",
    "        print(np.log2(eps))\n",
    "        break\n",
    "print(eps)       \n",
    "'''\n",
    "Every time I divide by 2 I am moving the decimal place of the 2 bit number over one\n",
    "\n",
    "A computer does not have infinite precision and will eventually run out of bits to move a decimal place over too\n",
    "\n",
    "In this case it is 53 bit moves and it fails.\n",
    "\n",
    "If you look up how many fraction bits there are in a 64 bit float it is 52, so mine failed once it hit 53 bits\n",
    "->the first bit out of its resolution\n",
    "'''"
   ]
  },
  {
   "cell_type": "code",
   "execution_count": null,
   "id": "9bbcab12",
   "metadata": {},
   "outputs": [],
   "source": []
  }
 ],
 "metadata": {
  "kernelspec": {
   "display_name": "Python 3 (ipykernel)",
   "language": "python",
   "name": "python3"
  },
  "language_info": {
   "codemirror_mode": {
    "name": "ipython",
    "version": 3
   },
   "file_extension": ".py",
   "mimetype": "text/x-python",
   "name": "python",
   "nbconvert_exporter": "python",
   "pygments_lexer": "ipython3",
   "version": "3.9.12"
  }
 },
 "nbformat": 4,
 "nbformat_minor": 5
}
