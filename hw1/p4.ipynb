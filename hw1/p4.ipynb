{
 "cells": [
  {
   "cell_type": "code",
   "execution_count": 64,
   "id": "0deb106e",
   "metadata": {},
   "outputs": [],
   "source": [
    "import random as rand\n",
    "import string\n",
    "import numpy as np"
   ]
  },
  {
   "cell_type": "code",
   "execution_count": 100,
   "id": "3c7c9da5",
   "metadata": {},
   "outputs": [],
   "source": [
    "def gen_password():\n",
    "    lower = list(string.ascii_lowercase)\n",
    "    upper = list(string.ascii_uppercase)\n",
    "    nums = list(string.digits)\n",
    "    spec = list(string.punctuation)\n",
    "    \n",
    "    tot = [lower,upper,nums,spec]\n",
    "    pieces = ['n','l','u','s']\n",
    "    \n",
    "    password = ''\n",
    "    \n",
    "    length = rand.randint(6,20) \n",
    "    while len(password) < length-len(pieces):\n",
    "        ind = rand.randint(0,3)\n",
    "        char = rand.choice(tot[ind])\n",
    "        password += char    \n",
    "\n",
    "    combined = list(password) + [rand.choice(i) for i in tot]\n",
    "    temp = rand.sample(combined, len(combined))\n",
    "    final = ''\n",
    "    for i in temp:\n",
    "        final += i\n",
    "    return final\n",
    "\n",
    "def check_password(p):\n",
    "    password = list(p)\n",
    "    #print(password)\n",
    "    lower = list(string.ascii_lowercase)\n",
    "    upper = list(string.ascii_uppercase)\n",
    "    nums = list(string.digits)\n",
    "    spec = list(string.punctuation)\n",
    "    \n",
    "    tot = [lower,upper,nums,spec]\n",
    "    \n",
    "    counters = [0,0,0,0]\n",
    "    white = list(string.whitespace)\n",
    "    if len(password)>6 and len(password)<20:\n",
    "        for char in password:\n",
    "            if char in white: #check white space\n",
    "                return False\n",
    "            \n",
    "            for i in range(len(tot)): #count types of characters\n",
    "                if char in tot[i]:\n",
    "                    counters[i]+=1\n",
    "        if 0 in counters: #if one didnt get counted reutrn 0\n",
    "            return False\n",
    "        return True\n",
    "                \n",
    "            "
   ]
  },
  {
   "cell_type": "code",
   "execution_count": 102,
   "id": "5fec9b4e",
   "metadata": {},
   "outputs": [],
   "source": [
    "for i in range(2000):\n",
    "    b = check_password(gen_password())\n",
    "    if b==False:\n",
    "        print(b, i)\n",
    "        break"
   ]
  },
  {
   "cell_type": "code",
   "execution_count": null,
   "id": "57572037",
   "metadata": {},
   "outputs": [],
   "source": []
  }
 ],
 "metadata": {
  "kernelspec": {
   "display_name": "Python 3 (ipykernel)",
   "language": "python",
   "name": "python3"
  },
  "language_info": {
   "codemirror_mode": {
    "name": "ipython",
    "version": 3
   },
   "file_extension": ".py",
   "mimetype": "text/x-python",
   "name": "python",
   "nbconvert_exporter": "python",
   "pygments_lexer": "ipython3",
   "version": "3.9.12"
  }
 },
 "nbformat": 4,
 "nbformat_minor": 5
}
