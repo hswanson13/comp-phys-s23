{
 "cells": [
  {
   "cell_type": "code",
   "execution_count": 54,
   "id": "05d4aab8",
   "metadata": {},
   "outputs": [],
   "source": [
    "import numpy as np\n",
    "#determine prime factors of user supplied number\n",
    "    \n",
    "def factors(n): #gets factors of a number\n",
    "    return [i for i in range(2,int(np.ceil(n/2)+1)) if n%i==0]\n",
    "\n",
    "def prime_gen(nth): #generates nth prime\n",
    "    primes = []\n",
    "    c = 2\n",
    "    while len(primes)<nth:\n",
    "        if len(factors(c))==0:\n",
    "            primes.append(c)\n",
    "        c+=1\n",
    "    return primes\n",
    "\n",
    "def prime_factors(): #gets prime factors\n",
    "    success = False\n",
    "    while not success: #forces integer input from user\n",
    "        try:\n",
    "            n = int(input(\"Pick a number \"))\n",
    "            success = True\n",
    "        except:\n",
    "            print('only choose integers')\n",
    "            pass\n",
    "    #potential prime factors for n\n",
    "    pot_primes = prime_gen(int(np.ceil(n/2)+1)) \n",
    "    #checks prime factors for n\n",
    "    pfacts = [i for i in pot_primes if n%i==0]\n",
    "    return pfacts\n"
   ]
  },
  {
   "cell_type": "code",
   "execution_count": 55,
   "id": "58c96f92",
   "metadata": {},
   "outputs": [
    {
     "name": "stdout",
     "output_type": "stream",
     "text": [
      "Pick a number 'g'\n",
      "only choose integers\n",
      "Pick a number 'abc'\n",
      "only choose integers\n",
      "Pick a number 24\n"
     ]
    },
    {
     "data": {
      "text/plain": [
       "[2, 3]"
      ]
     },
     "execution_count": 55,
     "metadata": {},
     "output_type": "execute_result"
    }
   ],
   "source": [
    "prime_factors()"
   ]
  },
  {
   "cell_type": "code",
   "execution_count": null,
   "id": "a6374bc7",
   "metadata": {},
   "outputs": [],
   "source": []
  },
  {
   "cell_type": "code",
   "execution_count": null,
   "id": "b3bbf062",
   "metadata": {},
   "outputs": [],
   "source": []
  }
 ],
 "metadata": {
  "kernelspec": {
   "display_name": "Python 3 (ipykernel)",
   "language": "python",
   "name": "python3"
  },
  "language_info": {
   "codemirror_mode": {
    "name": "ipython",
    "version": 3
   },
   "file_extension": ".py",
   "mimetype": "text/x-python",
   "name": "python",
   "nbconvert_exporter": "python",
   "pygments_lexer": "ipython3",
   "version": "3.9.12"
  }
 },
 "nbformat": 4,
 "nbformat_minor": 5
}
