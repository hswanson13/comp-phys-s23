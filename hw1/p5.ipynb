{
 "cells": [
  {
   "cell_type": "code",
   "execution_count": 106,
   "id": "df9d79eb",
   "metadata": {},
   "outputs": [],
   "source": [
    "import os  #older depreciated library\n",
    "import subprocess"
   ]
  },
  {
   "cell_type": "code",
   "execution_count": 87,
   "id": "27e4150d",
   "metadata": {},
   "outputs": [],
   "source": [
    "def get_directory_contents(path, show_contents=False):\n",
    "    os.chdir(path) #still need it to change working directory?? weird\n",
    "    bash_command = '/bin/ls'\n",
    "    ls_command = subprocess.run(bash_command, \n",
    "                         shell=True,\n",
    "                         capture_output=True,\n",
    "                         text=True,\n",
    "                         check=True)\n",
    "    out = ls_command.stdout\n",
    "    contents = out.split('\\n')\n",
    "    del contents[-1] #get rid of weird empty string at the end\n",
    "\n",
    "    if show_contents==True:\n",
    "        print(contents)\n",
    "        return contents\n",
    "    else:\n",
    "        return contents\n"
   ]
  },
  {
   "cell_type": "code",
   "execution_count": 88,
   "id": "2609c116",
   "metadata": {},
   "outputs": [
    {
     "name": "stdout",
     "output_type": "stream",
     "text": [
      "['anaconda3', 'coding_practice', 'comp-phys-s23', 'Desktop', 'Documents', 'Downloads', 'Exp_2_analysis', 'na49.root', 'Public', 'R', 'rootCA.key', 'rootCA.pem', 'rootCA.srl', 'Screenshots', 'snap', 'sublimehq-pub.gpg', 'Templates', 'Wallpapers']\n"
     ]
    }
   ],
   "source": [
    "stuff = get_directory_contents('/home/hayden/', show_contents=True)"
   ]
  },
  {
   "cell_type": "code",
   "execution_count": 104,
   "id": "c6e7c550",
   "metadata": {},
   "outputs": [
    {
     "name": "stdout",
     "output_type": "stream",
     "text": [
      "1507\n"
     ]
    }
   ],
   "source": [
    "def get_list_of_files(path, file_extension=None, show_contents=False):\n",
    "        \n",
    "    all_files = []\n",
    "    for root, dirs, files in os.walk(path): #os.walk does the depth first search algorithm for you!\n",
    "        for file in files: #do this loop to get rid of jagged nested arrays!\n",
    "            all_files.append(file)\n",
    "    \n",
    "    if file_extension != None:\n",
    "        filt_files = [i for i in all_files if i[-3:]==file_extension] #if last three characters are file extension or for any extension size len(file_extension) is more general, just realized right before it is due!\n",
    "    elif file_extension == None:\n",
    "        filt_files = all_files\n",
    "    \n",
    "    if show_contents==True:\n",
    "        print(filt_files)\n",
    "        return filt_files\n",
    "    else:\n",
    "        return filt_files\n",
    "\n",
    "the_files = get_list_of_files('/usr', file_extension='.pl',show_contents=False)\n",
    "print(len(the_files))"
   ]
  },
  {
   "cell_type": "code",
   "execution_count": null,
   "id": "86617a04",
   "metadata": {},
   "outputs": [],
   "source": []
  }
 ],
 "metadata": {
  "kernelspec": {
   "display_name": "Python 3 (ipykernel)",
   "language": "python",
   "name": "python3"
  },
  "language_info": {
   "codemirror_mode": {
    "name": "ipython",
    "version": 3
   },
   "file_extension": ".py",
   "mimetype": "text/x-python",
   "name": "python",
   "nbconvert_exporter": "python",
   "pygments_lexer": "ipython3",
   "version": "3.9.12"
  }
 },
 "nbformat": 4,
 "nbformat_minor": 5
}
